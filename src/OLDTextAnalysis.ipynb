{
 "cells": [
  {
   "cell_type": "code",
   "execution_count": 1,
   "metadata": {},
   "outputs": [],
   "source": [
    "import numpy as np\n",
    "import pandas as pd\n",
    "import matplotlib.pyplot as plt"
   ]
  },
  {
   "cell_type": "code",
   "execution_count": 2,
   "metadata": {},
   "outputs": [
    {
     "data": {
      "text/html": [
       "<div>\n",
       "<style scoped>\n",
       "    .dataframe tbody tr th:only-of-type {\n",
       "        vertical-align: middle;\n",
       "    }\n",
       "\n",
       "    .dataframe tbody tr th {\n",
       "        vertical-align: top;\n",
       "    }\n",
       "\n",
       "    .dataframe thead th {\n",
       "        text-align: right;\n",
       "    }\n",
       "</style>\n",
       "<table border=\"1\" class=\"dataframe\">\n",
       "  <thead>\n",
       "    <tr style=\"text-align: right;\">\n",
       "      <th></th>\n",
       "      <th>date</th>\n",
       "      <th>status</th>\n",
       "      <th>id</th>\n",
       "      <th>text</th>\n",
       "      <th>photo</th>\n",
       "      <th>parti</th>\n",
       "    </tr>\n",
       "  </thead>\n",
       "  <tbody>\n",
       "    <tr>\n",
       "      <th>0</th>\n",
       "      <td>Début de diffusion le 14 jan 2020</td>\n",
       "      <td>Actif</td>\n",
       "      <td>ID : 2456367091344308</td>\n",
       "      <td>Tijd voor échte verandering. Ook in Geraardsbe...</td>\n",
       "      <td>https://scontent.fgva1-1.fna.fbcdn.net/v/t39.1...</td>\n",
       "      <td>Vlaams Belang</td>\n",
       "    </tr>\n",
       "    <tr>\n",
       "      <th>1</th>\n",
       "      <td>Début de diffusion le 13 jan 2020</td>\n",
       "      <td>Inactive</td>\n",
       "      <td>ID : 2521655651492982</td>\n",
       "      <td>Ondanks eerdere beloftes om niet te besparen, ...</td>\n",
       "      <td>https://scontent.fgva1-1.fna.fbcdn.net/v/t1.64...</td>\n",
       "      <td>Vlaams Belang</td>\n",
       "    </tr>\n",
       "    <tr>\n",
       "      <th>2</th>\n",
       "      <td>Début de diffusion le 11 jan 2020</td>\n",
       "      <td>Actif</td>\n",
       "      <td>ID : 3173937022621410</td>\n",
       "      <td>Terwijl poetshulpen staken voor 1% loonopslag ...</td>\n",
       "      <td>NaN</td>\n",
       "      <td>Vlaams Belang</td>\n",
       "    </tr>\n",
       "    <tr>\n",
       "      <th>3</th>\n",
       "      <td>Début de diffusion le 8 jan 2020</td>\n",
       "      <td>Actif</td>\n",
       "      <td>ID : 503233856995441</td>\n",
       "      <td>HALLUCINANT. Een gezin dat ILLEGAAL in het lan...</td>\n",
       "      <td>NaN</td>\n",
       "      <td>Vlaams Belang</td>\n",
       "    </tr>\n",
       "    <tr>\n",
       "      <th>4</th>\n",
       "      <td>Début de diffusion le 8 jan 2020</td>\n",
       "      <td>Inactive</td>\n",
       "      <td>ID : 510651559810052</td>\n",
       "      <td>Heeft iemand de Koksijdenaren gevraagd of ze e...</td>\n",
       "      <td>https://scontent.fgva1-1.fna.fbcdn.net/v/t39.1...</td>\n",
       "      <td>Vlaams Belang</td>\n",
       "    </tr>\n",
       "    <tr>\n",
       "      <th>...</th>\n",
       "      <td>...</td>\n",
       "      <td>...</td>\n",
       "      <td>...</td>\n",
       "      <td>...</td>\n",
       "      <td>...</td>\n",
       "      <td>...</td>\n",
       "    </tr>\n",
       "    <tr>\n",
       "      <th>325</th>\n",
       "      <td>Début de diffusion le 7 jan 2019</td>\n",
       "      <td>Inactive</td>\n",
       "      <td>ID : 301916850729576</td>\n",
       "      <td>Immigratie kost € 7,2 miljard/jaar, terwijl on...</td>\n",
       "      <td>https://scontent.fgva1-1.fna.fbcdn.net/v/t39.1...</td>\n",
       "      <td>Vlaams Belang</td>\n",
       "    </tr>\n",
       "    <tr>\n",
       "      <th>326</th>\n",
       "      <td>Début de diffusion le 6 jan 2019</td>\n",
       "      <td>Inactive</td>\n",
       "      <td>ID : 314573155875863</td>\n",
       "      <td>LIKE als je het eens bent!</td>\n",
       "      <td>https://scontent.fgva1-1.fna.fbcdn.net/v/t39.1...</td>\n",
       "      <td>Vlaams Belang</td>\n",
       "    </tr>\n",
       "    <tr>\n",
       "      <th>327</th>\n",
       "      <td>Début de diffusion le 4 jan 2019</td>\n",
       "      <td>Inactive</td>\n",
       "      <td>ID : 771284619895377</td>\n",
       "      <td>Stop met het importeren van armoede en bescher...</td>\n",
       "      <td>https://scontent.fgva1-1.fna.fbcdn.net/v/t39.1...</td>\n",
       "      <td>Vlaams Belang</td>\n",
       "    </tr>\n",
       "    <tr>\n",
       "      <th>328</th>\n",
       "      <td>Début de diffusion le 30 oct 2018</td>\n",
       "      <td>Inactive</td>\n",
       "      <td>ID : 336371940626016</td>\n",
       "      <td>IS-strijders horen NIET thuis in ons land. LIK...</td>\n",
       "      <td>https://scontent.fgva1-1.fna.fbcdn.net/v/t39.1...</td>\n",
       "      <td>Vlaams Belang</td>\n",
       "    </tr>\n",
       "    <tr>\n",
       "      <th>329</th>\n",
       "      <td>Début de diffusion le 9 sep 2018</td>\n",
       "      <td>Inactive</td>\n",
       "      <td>ID : 2029892163799883</td>\n",
       "      <td>Crimigranten buiten! LIKE als je het eens bent.</td>\n",
       "      <td>https://scontent.fgva1-1.fna.fbcdn.net/v/t39.1...</td>\n",
       "      <td>Vlaams Belang</td>\n",
       "    </tr>\n",
       "  </tbody>\n",
       "</table>\n",
       "<p>330 rows × 6 columns</p>\n",
       "</div>"
      ],
      "text/plain": [
       "                                  date    status                     id  \\\n",
       "0    Début de diffusion le 14 jan 2020     Actif  ID : 2456367091344308   \n",
       "1    Début de diffusion le 13 jan 2020  Inactive  ID : 2521655651492982   \n",
       "2    Début de diffusion le 11 jan 2020     Actif  ID : 3173937022621410   \n",
       "3     Début de diffusion le 8 jan 2020     Actif   ID : 503233856995441   \n",
       "4     Début de diffusion le 8 jan 2020  Inactive   ID : 510651559810052   \n",
       "..                                 ...       ...                    ...   \n",
       "325   Début de diffusion le 7 jan 2019  Inactive   ID : 301916850729576   \n",
       "326   Début de diffusion le 6 jan 2019  Inactive   ID : 314573155875863   \n",
       "327   Début de diffusion le 4 jan 2019  Inactive   ID : 771284619895377   \n",
       "328  Début de diffusion le 30 oct 2018  Inactive   ID : 336371940626016   \n",
       "329   Début de diffusion le 9 sep 2018  Inactive  ID : 2029892163799883   \n",
       "\n",
       "                                                  text  \\\n",
       "0    Tijd voor échte verandering. Ook in Geraardsbe...   \n",
       "1    Ondanks eerdere beloftes om niet te besparen, ...   \n",
       "2    Terwijl poetshulpen staken voor 1% loonopslag ...   \n",
       "3    HALLUCINANT. Een gezin dat ILLEGAAL in het lan...   \n",
       "4    Heeft iemand de Koksijdenaren gevraagd of ze e...   \n",
       "..                                                 ...   \n",
       "325  Immigratie kost € 7,2 miljard/jaar, terwijl on...   \n",
       "326                         LIKE als je het eens bent!   \n",
       "327  Stop met het importeren van armoede en bescher...   \n",
       "328  IS-strijders horen NIET thuis in ons land. LIK...   \n",
       "329    Crimigranten buiten! LIKE als je het eens bent.   \n",
       "\n",
       "                                                 photo          parti  \n",
       "0    https://scontent.fgva1-1.fna.fbcdn.net/v/t39.1...  Vlaams Belang  \n",
       "1    https://scontent.fgva1-1.fna.fbcdn.net/v/t1.64...  Vlaams Belang  \n",
       "2                                                  NaN  Vlaams Belang  \n",
       "3                                                  NaN  Vlaams Belang  \n",
       "4    https://scontent.fgva1-1.fna.fbcdn.net/v/t39.1...  Vlaams Belang  \n",
       "..                                                 ...            ...  \n",
       "325  https://scontent.fgva1-1.fna.fbcdn.net/v/t39.1...  Vlaams Belang  \n",
       "326  https://scontent.fgva1-1.fna.fbcdn.net/v/t39.1...  Vlaams Belang  \n",
       "327  https://scontent.fgva1-1.fna.fbcdn.net/v/t39.1...  Vlaams Belang  \n",
       "328  https://scontent.fgva1-1.fna.fbcdn.net/v/t39.1...  Vlaams Belang  \n",
       "329  https://scontent.fgva1-1.fna.fbcdn.net/v/t39.1...  Vlaams Belang  \n",
       "\n",
       "[330 rows x 6 columns]"
      ]
     },
     "execution_count": 2,
     "metadata": {},
     "output_type": "execute_result"
    }
   ],
   "source": [
    "vb = pd.read_csv('vlaams_belang.csv', index_col=0)\n",
    "vb"
   ]
  },
  {
   "cell_type": "markdown",
   "metadata": {},
   "source": [
    "## Cleaning"
   ]
  },
  {
   "cell_type": "code",
   "execution_count": 3,
   "metadata": {},
   "outputs": [
    {
     "data": {
      "text/html": [
       "<div>\n",
       "<style scoped>\n",
       "    .dataframe tbody tr th:only-of-type {\n",
       "        vertical-align: middle;\n",
       "    }\n",
       "\n",
       "    .dataframe tbody tr th {\n",
       "        vertical-align: top;\n",
       "    }\n",
       "\n",
       "    .dataframe thead th {\n",
       "        text-align: right;\n",
       "    }\n",
       "</style>\n",
       "<table border=\"1\" class=\"dataframe\">\n",
       "  <thead>\n",
       "    <tr style=\"text-align: right;\">\n",
       "      <th></th>\n",
       "      <th>date</th>\n",
       "      <th>status</th>\n",
       "      <th>id</th>\n",
       "      <th>text</th>\n",
       "      <th>photo</th>\n",
       "      <th>parti</th>\n",
       "    </tr>\n",
       "  </thead>\n",
       "  <tbody>\n",
       "    <tr>\n",
       "      <th>0</th>\n",
       "      <td>2020-01-14</td>\n",
       "      <td>Actif</td>\n",
       "      <td>ID : 2456367091344308</td>\n",
       "      <td>Tijd voor échte verandering. Ook in Geraardsbe...</td>\n",
       "      <td>https://scontent.fgva1-1.fna.fbcdn.net/v/t39.1...</td>\n",
       "      <td>Vlaams Belang</td>\n",
       "    </tr>\n",
       "    <tr>\n",
       "      <th>1</th>\n",
       "      <td>2020-01-13</td>\n",
       "      <td>Inactive</td>\n",
       "      <td>ID : 2521655651492982</td>\n",
       "      <td>Ondanks eerdere beloftes om niet te besparen, ...</td>\n",
       "      <td>https://scontent.fgva1-1.fna.fbcdn.net/v/t1.64...</td>\n",
       "      <td>Vlaams Belang</td>\n",
       "    </tr>\n",
       "    <tr>\n",
       "      <th>2</th>\n",
       "      <td>2020-01-11</td>\n",
       "      <td>Actif</td>\n",
       "      <td>ID : 3173937022621410</td>\n",
       "      <td>Terwijl poetshulpen staken voor 1% loonopslag ...</td>\n",
       "      <td>NaN</td>\n",
       "      <td>Vlaams Belang</td>\n",
       "    </tr>\n",
       "    <tr>\n",
       "      <th>3</th>\n",
       "      <td>2020-01-08</td>\n",
       "      <td>Actif</td>\n",
       "      <td>ID : 503233856995441</td>\n",
       "      <td>HALLUCINANT. Een gezin dat ILLEGAAL in het lan...</td>\n",
       "      <td>NaN</td>\n",
       "      <td>Vlaams Belang</td>\n",
       "    </tr>\n",
       "    <tr>\n",
       "      <th>4</th>\n",
       "      <td>2020-01-08</td>\n",
       "      <td>Inactive</td>\n",
       "      <td>ID : 510651559810052</td>\n",
       "      <td>Heeft iemand de Koksijdenaren gevraagd of ze e...</td>\n",
       "      <td>https://scontent.fgva1-1.fna.fbcdn.net/v/t39.1...</td>\n",
       "      <td>Vlaams Belang</td>\n",
       "    </tr>\n",
       "  </tbody>\n",
       "</table>\n",
       "</div>"
      ],
      "text/plain": [
       "        date    status                     id  \\\n",
       "0 2020-01-14     Actif  ID : 2456367091344308   \n",
       "1 2020-01-13  Inactive  ID : 2521655651492982   \n",
       "2 2020-01-11     Actif  ID : 3173937022621410   \n",
       "3 2020-01-08     Actif   ID : 503233856995441   \n",
       "4 2020-01-08  Inactive   ID : 510651559810052   \n",
       "\n",
       "                                                text  \\\n",
       "0  Tijd voor échte verandering. Ook in Geraardsbe...   \n",
       "1  Ondanks eerdere beloftes om niet te besparen, ...   \n",
       "2  Terwijl poetshulpen staken voor 1% loonopslag ...   \n",
       "3  HALLUCINANT. Een gezin dat ILLEGAAL in het lan...   \n",
       "4  Heeft iemand de Koksijdenaren gevraagd of ze e...   \n",
       "\n",
       "                                               photo          parti  \n",
       "0  https://scontent.fgva1-1.fna.fbcdn.net/v/t39.1...  Vlaams Belang  \n",
       "1  https://scontent.fgva1-1.fna.fbcdn.net/v/t1.64...  Vlaams Belang  \n",
       "2                                                NaN  Vlaams Belang  \n",
       "3                                                NaN  Vlaams Belang  \n",
       "4  https://scontent.fgva1-1.fna.fbcdn.net/v/t39.1...  Vlaams Belang  "
      ]
     },
     "execution_count": 3,
     "metadata": {},
     "output_type": "execute_result"
    }
   ],
   "source": [
    "vb['date'] = vb['date'].str.strip('Début de diffusion le ')\n",
    "vb['date'] = vb['date'].str.replace('déc', 'dec')\n",
    "vb['date'] = vb['date'].str.replace('aoû', 'aug')\n",
    "vb['date'] = vb['date'].str.replace('juil', 'jul')\n",
    "vb['date'] = vb['date'].str.replace('mai', 'may')\n",
    "vb['date'] = vb['date'].str.replace('avr', 'apr')\n",
    "vb['date'] = vb['date'].str.replace('fév', 'feb')\n",
    "vb['date'] = vb['date'].str.split('-').apply(lambda x : x[0])\n",
    "vb['date'] = pd.to_datetime(vb['date'])\n",
    "vb.head()"
   ]
  },
  {
   "cell_type": "code",
   "execution_count": 4,
   "metadata": {},
   "outputs": [
    {
     "data": {
      "text/html": [
       "<div>\n",
       "<style scoped>\n",
       "    .dataframe tbody tr th:only-of-type {\n",
       "        vertical-align: middle;\n",
       "    }\n",
       "\n",
       "    .dataframe tbody tr th {\n",
       "        vertical-align: top;\n",
       "    }\n",
       "\n",
       "    .dataframe thead th {\n",
       "        text-align: right;\n",
       "    }\n",
       "</style>\n",
       "<table border=\"1\" class=\"dataframe\">\n",
       "  <thead>\n",
       "    <tr style=\"text-align: right;\">\n",
       "      <th></th>\n",
       "      <th>date</th>\n",
       "      <th>status</th>\n",
       "      <th>text</th>\n",
       "      <th>photo</th>\n",
       "      <th>parti</th>\n",
       "    </tr>\n",
       "    <tr>\n",
       "      <th>id</th>\n",
       "      <th></th>\n",
       "      <th></th>\n",
       "      <th></th>\n",
       "      <th></th>\n",
       "      <th></th>\n",
       "    </tr>\n",
       "  </thead>\n",
       "  <tbody>\n",
       "    <tr>\n",
       "      <th>2456367091344308</th>\n",
       "      <td>2020-01-14</td>\n",
       "      <td>Actif</td>\n",
       "      <td>Tijd voor échte verandering. Ook in Geraardsbe...</td>\n",
       "      <td>https://scontent.fgva1-1.fna.fbcdn.net/v/t39.1...</td>\n",
       "      <td>Vlaams Belang</td>\n",
       "    </tr>\n",
       "    <tr>\n",
       "      <th>2521655651492982</th>\n",
       "      <td>2020-01-13</td>\n",
       "      <td>Inactive</td>\n",
       "      <td>Ondanks eerdere beloftes om niet te besparen, ...</td>\n",
       "      <td>https://scontent.fgva1-1.fna.fbcdn.net/v/t1.64...</td>\n",
       "      <td>Vlaams Belang</td>\n",
       "    </tr>\n",
       "    <tr>\n",
       "      <th>3173937022621410</th>\n",
       "      <td>2020-01-11</td>\n",
       "      <td>Actif</td>\n",
       "      <td>Terwijl poetshulpen staken voor 1% loonopslag ...</td>\n",
       "      <td>NaN</td>\n",
       "      <td>Vlaams Belang</td>\n",
       "    </tr>\n",
       "    <tr>\n",
       "      <th>503233856995441</th>\n",
       "      <td>2020-01-08</td>\n",
       "      <td>Actif</td>\n",
       "      <td>HALLUCINANT. Een gezin dat ILLEGAAL in het lan...</td>\n",
       "      <td>NaN</td>\n",
       "      <td>Vlaams Belang</td>\n",
       "    </tr>\n",
       "    <tr>\n",
       "      <th>510651559810052</th>\n",
       "      <td>2020-01-08</td>\n",
       "      <td>Inactive</td>\n",
       "      <td>Heeft iemand de Koksijdenaren gevraagd of ze e...</td>\n",
       "      <td>https://scontent.fgva1-1.fna.fbcdn.net/v/t39.1...</td>\n",
       "      <td>Vlaams Belang</td>\n",
       "    </tr>\n",
       "  </tbody>\n",
       "</table>\n",
       "</div>"
      ],
      "text/plain": [
       "                       date    status  \\\n",
       "id                                      \n",
       "2456367091344308 2020-01-14     Actif   \n",
       "2521655651492982 2020-01-13  Inactive   \n",
       "3173937022621410 2020-01-11     Actif   \n",
       "503233856995441  2020-01-08     Actif   \n",
       "510651559810052  2020-01-08  Inactive   \n",
       "\n",
       "                                                               text  \\\n",
       "id                                                                    \n",
       "2456367091344308  Tijd voor échte verandering. Ook in Geraardsbe...   \n",
       "2521655651492982  Ondanks eerdere beloftes om niet te besparen, ...   \n",
       "3173937022621410  Terwijl poetshulpen staken voor 1% loonopslag ...   \n",
       "503233856995441   HALLUCINANT. Een gezin dat ILLEGAAL in het lan...   \n",
       "510651559810052   Heeft iemand de Koksijdenaren gevraagd of ze e...   \n",
       "\n",
       "                                                              photo  \\\n",
       "id                                                                    \n",
       "2456367091344308  https://scontent.fgva1-1.fna.fbcdn.net/v/t39.1...   \n",
       "2521655651492982  https://scontent.fgva1-1.fna.fbcdn.net/v/t1.64...   \n",
       "3173937022621410                                                NaN   \n",
       "503233856995441                                                 NaN   \n",
       "510651559810052   https://scontent.fgva1-1.fna.fbcdn.net/v/t39.1...   \n",
       "\n",
       "                          parti  \n",
       "id                               \n",
       "2456367091344308  Vlaams Belang  \n",
       "2521655651492982  Vlaams Belang  \n",
       "3173937022621410  Vlaams Belang  \n",
       "503233856995441   Vlaams Belang  \n",
       "510651559810052   Vlaams Belang  "
      ]
     },
     "execution_count": 4,
     "metadata": {},
     "output_type": "execute_result"
    }
   ],
   "source": [
    "vb['id'] = vb['id'].str.strip('ID\\xa0: ').astype('int')\n",
    "vb = vb.set_index('id', drop=True)\n",
    "vb.head()"
   ]
  },
  {
   "cell_type": "code",
   "execution_count": 5,
   "metadata": {},
   "outputs": [],
   "source": [
    "vb['text'] = vb.text.astype('str')"
   ]
  },
  {
   "cell_type": "code",
   "execution_count": 6,
   "metadata": {},
   "outputs": [
    {
     "data": {
      "text/plain": [
       "date      datetime64[ns]\n",
       "status            object\n",
       "text              object\n",
       "photo             object\n",
       "parti             object\n",
       "dtype: object"
      ]
     },
     "execution_count": 6,
     "metadata": {},
     "output_type": "execute_result"
    }
   ],
   "source": [
    "vb.dtypes"
   ]
  },
  {
   "cell_type": "markdown",
   "metadata": {},
   "source": [
    "# Translation\n",
    "We translate the text in english to go through a sentiment analysis\n",
    "\n",
    "Because deepL use chunk of max length 5000 char we devide the text into chunks and then reassemble the text."
   ]
  },
  {
   "cell_type": "code",
   "execution_count": 7,
   "metadata": {},
   "outputs": [],
   "source": [
    "all_texts = vb.text.to_list()"
   ]
  },
  {
   "cell_type": "code",
   "execution_count": 8,
   "metadata": {},
   "outputs": [],
   "source": [
    "for i in range(0, len(vb), 20):\n",
    "    chunk = all_texts[i:i+19]\n",
    "    text = '§'.join(chunk)\n",
    "    if(len(text) > 5000):\n",
    "        print(\"Bad\")\n",
    "    with open('chunks/text_{}.txt'.format(i), 'w') as file:\n",
    "        file.write(text)"
   ]
  },
  {
   "cell_type": "code",
   "execution_count": 9,
   "metadata": {},
   "outputs": [],
   "source": [
    "translated = []\n",
    "for i in range(0, len(vb), 20):\n",
    "    with open('chunks/translated/text_{}.txt'.format(i), 'r') as file:\n",
    "        chunk = file.read()\n",
    "    texts = chunk.split('§')\n",
    "    translated += texts"
   ]
  },
  {
   "cell_type": "code",
   "execution_count": 10,
   "metadata": {},
   "outputs": [],
   "source": [
    "translated_all = '§'.join(translated)\n",
    "with open('translation.txt', 'w') as file:\n",
    "    file.write(translated_all)"
   ]
  },
  {
   "cell_type": "markdown",
   "metadata": {},
   "source": [
    "# Text Analysis"
   ]
  },
  {
   "cell_type": "code",
   "execution_count": 11,
   "metadata": {},
   "outputs": [],
   "source": [
    "%load_ext autoreload\n",
    "%autoreload 2\n",
    "\n",
    "import warnings; warnings.simplefilter('ignore')\n",
    "import os, codecs, string, random\n",
    "import numpy as np\n",
    "from numpy.random import seed as random_seed\n",
    "from numpy.random import shuffle as random_shuffle\n",
    "import matplotlib.pyplot as plt\n",
    "%matplotlib inline  \n",
    "\n",
    "seed = 42\n",
    "random.seed(seed)\n",
    "np.random.seed(seed)\n",
    "\n",
    "#NLP libraries\n",
    "import spacy, nltk, gensim, sklearn\n",
    "import pyLDAvis.gensim\n",
    "\n",
    "#Vader\n",
    "import vaderSentiment\n",
    "from vaderSentiment.vaderSentiment import SentimentIntensityAnalyzer\n",
    "\n",
    "#Scikit imports\n",
    "from sklearn.feature_extraction.text import CountVectorizer\n",
    "from sklearn.model_selection import train_test_split\n",
    "from sklearn.model_selection import cross_val_score\n",
    "from sklearn.linear_model import LogisticRegression\n",
    "from sklearn import preprocessing\n",
    "from sklearn.preprocessing import StandardScaler\n",
    "from sklearn.utils import shuffle"
   ]
  },
  {
   "cell_type": "code",
   "execution_count": 24,
   "metadata": {},
   "outputs": [],
   "source": [
    "# Lower case and strip\n",
    "translated = list(map(lambda x: x.lower().strip(), translated))"
   ]
  },
  {
   "cell_type": "code",
   "execution_count": 25,
   "metadata": {},
   "outputs": [],
   "source": [
    "score_list = []\n",
    "for text in translated:\n",
    "    analyzer = SentimentIntensityAnalyzer()\n",
    "    vs = analyzer.polarity_scores(text)\n",
    "    score_list.append(vs)\n",
    "scores = pd.DataFrame.from_dict(score_list)"
   ]
  },
  {
   "cell_type": "code",
   "execution_count": 26,
   "metadata": {},
   "outputs": [
    {
     "data": {
      "image/png": "[encoded data removed]",
      "text/plain": [
       "<Figure size 720x504 with 1 Axes>"
      ]
     },
     "metadata": {
      "needs_background": "light"
     },
     "output_type": "display_data"
    }
   ],
   "source": [
    "plt.figure(figsize=(10,7))\n",
    "scores['compound'].hist()\n",
    "plt.show()"
   ]
  },
  {
   "cell_type": "code",
   "execution_count": 27,
   "metadata": {},
   "outputs": [],
   "source": [
    "scores = scores.reset_index(drop=False)"
   ]
  },
  {
   "cell_type": "code",
   "execution_count": 28,
   "metadata": {},
   "outputs": [],
   "source": [
    "neg_index = scores.sort_values(by='compound').head(10).index.to_list()"
   ]
  },
  {
   "cell_type": "code",
   "execution_count": 29,
   "metadata": {},
   "outputs": [
    {
     "name": "stdout",
     "output_type": "stream",
     "text": [
      "waanzin. paul magnette's latest memorandum proposes a new wave of regularisation of illegals. is this what flanders voted for? is this listening to the population, gwendolyn rutten? a nail bomb, a few grenade attacks in one week, shootings with kalashnikovs, arson... the drug war is raging in and around antwerp. mayor bart de wever has lost control and is detecting nergens. the local residents are out in the cold and it's only a matter of time before innocent victims are killed. only a hard approach can work!\n",
      "\n",
      "\n",
      "a few days ago a truck driver was attacked by illegal aliens in landen. niemand takes his responsibility and the minister even looks away. cd&v, green and pvda do not even bother to condemn this violence. what a shame! from 1 january, more than 600,000 registered cars can only enter an lez with a fine or an extra tax. those who want to enter the city centre in 2027, will only be able to do so with the latest model diesel engine. an anti-social pestbelasting that is being introduced in more and more municipalities. the bill is for the ordinary citizen. stop the asocial lezs!\n",
      "\n",
      "\n",
      "more than 70 violent drug-related incidents (grenade attacks, shootings, arsons,...) in 3 years time. hallucinant. the core task of the government is to guarantee the safety of the population. it is not the innocent civilians who should be scared, but those drug criminals. the fear has to change camps!\n",
      "\n",
      "\n",
      "what is the legacy of the open vld after 20 years of federal government? the borders are wide open, the tax burden is immense, justice is still messy, sex crimes are hardly punished, the retirement age has been raised to 67 years, the energy bill has been derailed,... away with these unworldly liberals and their anti-social policies! scandalous! pool terror is ignored and not taken seriously. the boerkini, a symbol of inequality between men and women, is admitted. and anyone protesting against this? he'll be packed. what a upside-down world.\n",
      "\n",
      "\n",
      "while every year we waste million euros on immigration, the government and maggie de block are abandoning our people! what a damage!\n",
      "\n",
      "\n",
      "stop the lez in our country! we are the only party that wants to abolish this hypocritical measure. after all, who will be the victim of the \"low emission zone\"? the ordinary citizen who can't afford a new car. stop the climate madness!\n",
      "\n",
      "\n",
      "stop the lez in our country! we are the only party that wants to abolish this hypocritical measure. after all, who will be the victim of the \"low emission zone\"? the ordinary citizen who can't afford a new car. stop the climate madness!\n",
      "\n",
      "\n",
      "stop the lez in our country! we are the only party that wants to abolish this hypocritical measure. after all, who will be the victim of the \"low emission zone\"? the ordinary citizen who can't afford a new car. stop the climate madness!\n",
      "\n",
      "\n",
      "it's not left or right to demand real justice. it's not left or right to attack and rape hard. this should be a top priority for everyone, because no victim should be abandoned by a failing justice and an incompetent minister. time for real change!  (feel free to agree)\n",
      "\n",
      "\n",
      "it's not left or right to demand real justice. it's not left or right to attack and rape hard. this must be a top priority for everyone, because no victim should be abandoned by a failing justice system and an incompetent minister. time for real change!  (feel free to agree)\n",
      "\n",
      "\n"
     ]
    }
   ],
   "source": [
    "for index in neg_index:\n",
    "    print(translated[index])\n",
    "    print('\\n')"
   ]
  },
  {
   "cell_type": "code",
   "execution_count": 30,
   "metadata": {},
   "outputs": [
    {
     "name": "stdout",
     "output_type": "stream",
     "text": [
      "during the warmest week flanders shows its best side. this widely supported and heartwarming solidarity is part of our flemish identity. we are happy to contribute to this with this action. we donate the entire proceeds to a good cause.  more information or apply for an identity card: www.vlaamsbelang.org/dewarmsteweek\n",
      "\n",
      "\n",
      "safety is a basic right. it's time to restore the credibility of justice and end impunity. the latest survey by vtm and hln shows that at 14.8% we will be the 3rd largest party in the country!  we still have one more week to convince many more people. give us a hand! on 26 may we have an appointment with history.\n",
      "\n",
      "\n",
      "in a democracy, every voice counts. thank you voters. you guys are great!   join us today and join the fastest growing party in the country: https://www.vlaamsbelang.org/doe_mee_word_lid/\n",
      "\n",
      "\n",
      "our first vacancies are online! is working for vlaams belang something for you? don't hesitate, find out via www.vlaamsbelang.org/vacatures and apply today! feel free to share this message so friends and family can discover our vacancies.  (be sure to keep an eye on this page. other vacancies will be announced in the coming weeks.)\n",
      "\n",
      "\n",
      "our first vacancies are online! is working for vlaams belang something for you? don't hesitate, find out via www.vlaamsbelang.org/vacatures and apply today! feel free to share this message so that friends and family can discover our vacancies.  (be sure to keep an eye on this page. other vacancies will be announced in the coming weeks.)\n",
      "\n",
      "\n",
      "according to a survey, 6 out of 10 flemish people still have doubts about who they will give their vote to. so, we still have 4 weeks to campaign hard and convince people. on to victory. on to may 26th! #firstour people #flemish-handy! whoever commits such crimes (this time in erpe-mere) is never allowed to roam freely in our streets. is it any wonder then that the population feels impunity? is it bizarre that the public loses confidence in the government and justice? time for real change! \"all those asylum seekers are going to pay our pensions\", doesn't not believe that? stop lying to the people. mass immigration is not an enrichment for our society! did you know that open vld has been in the federal government for 20 years? this anti-social liberal party raised taxes on energy and fuel, increased the retirement age by two years and opened the immigration gates wide. stop squeezing out the population and saddling them with an immigration bill that niemand asked for!\n",
      "\n",
      "\n",
      "our soldiers take care of our security day in, day out and earn respect. time for a long-term vision to address the real defence challenges!\n",
      "\n",
      "\n",
      "what a kiezersbedrog. first pretending, but after the elections jinnih beels adored the seat. can anyone count bart de wever's number of bends? one thing is becoming more and more clear: a vote for n-va, is a vote for sp.a!\n",
      "\n",
      "\n",
      "incredible! free courses are offered by minister homans to foreigners with great pleasure. and how much does one course cost in reality? €4,300 per person. while the flemish government introduced many new taxes on the felling of the fleming, our tax money is being wasted!\n",
      "\n",
      "\n",
      "would you like to work a little longer? no. save on immigration, transfers to wallonia and the political system. not on our people. anyone who has worked for 40 years and paid blue taxes for his whole life is entitled to a minimum pension of €1500. energy is a basic need and not a luxury product. away with all those plague taxes. away with the energy mafia!\n",
      "\n",
      "\n"
     ]
    }
   ],
   "source": [
    "pos_index = scores.sort_values(by='compound', ascending=False).head(10).index.to_list()\n",
    "for index in pos_index:\n",
    "    print(translated[index])\n",
    "    print('\\n')"
   ]
  },
  {
   "cell_type": "code",
   "execution_count": 31,
   "metadata": {},
   "outputs": [
    {
     "name": "stderr",
     "output_type": "stream",
     "text": [
      "/Users/lamborellemaxime/anaconda3/envs/ada/lib/python3.7/site-packages/msgpack_numpy.py:184: DeprecationWarning: encoding is deprecated, Use raw=False instead.\n",
      "  return _unpackb(packed, **kwargs)\n",
      "/Users/lamborellemaxime/anaconda3/envs/ada/lib/python3.7/site-packages/msgpack_numpy.py:184: DeprecationWarning: encoding is deprecated, Use raw=False instead.\n",
      "  return _unpackb(packed, **kwargs)\n",
      "/Users/lamborellemaxime/anaconda3/envs/ada/lib/python3.7/site-packages/msgpack_numpy.py:184: DeprecationWarning: encoding is deprecated, Use raw=False instead.\n",
      "  return _unpackb(packed, **kwargs)\n",
      "/Users/lamborellemaxime/anaconda3/envs/ada/lib/python3.7/site-packages/msgpack_numpy.py:184: DeprecationWarning: encoding is deprecated, Use raw=False instead.\n",
      "  return _unpackb(packed, **kwargs)\n",
      "/Users/lamborellemaxime/anaconda3/envs/ada/lib/python3.7/site-packages/msgpack_numpy.py:184: DeprecationWarning: encoding is deprecated, Use raw=False instead.\n",
      "  return _unpackb(packed, **kwargs)\n",
      "/Users/lamborellemaxime/anaconda3/envs/ada/lib/python3.7/site-packages/msgpack_numpy.py:184: DeprecationWarning: encoding is deprecated, Use raw=False instead.\n",
      "  return _unpackb(packed, **kwargs)\n",
      "/Users/lamborellemaxime/anaconda3/envs/ada/lib/python3.7/site-packages/msgpack_numpy.py:184: DeprecationWarning: encoding is deprecated, Use raw=False instead.\n",
      "  return _unpackb(packed, **kwargs)\n",
      "/Users/lamborellemaxime/anaconda3/envs/ada/lib/python3.7/site-packages/msgpack_numpy.py:184: DeprecationWarning: encoding is deprecated, Use raw=False instead.\n",
      "  return _unpackb(packed, **kwargs)\n"
     ]
    }
   ],
   "source": [
    "from spacy.lang.nl.stop_words import STOP_WORDS\n",
    "chunks = vb.text.str.lower().to_list()\n",
    "\n",
    "nlp = spacy.load('nl')\n",
    "\n",
    "\n",
    "processed_docs = list()\n",
    "for doc in nlp.pipe(chunks, n_threads=5, batch_size=10):\n",
    "\n",
    "    # Process document using Spacy NLP pipeline.\n",
    "    ents = doc.ents  # Named entities\n",
    "\n",
    "    # Keep only words (no numbers, no punctuation).\n",
    "    # Lemmatize tokens, remove punctuation and remove stopwords.\n",
    "    doc = [token.lemma_ for token in doc if token.is_alpha and not token.is_stop]\n",
    "\n",
    "    # Remove common words from a stopword list and keep only words of length 3 or more.\n",
    "    doc = [token for token in doc if token not in STOP_WORDS and len(token) > 2]\n",
    "\n",
    "    # Add named entities, but only if they are a compound of more than word.\n",
    "    doc.extend([str(entity) for entity in ents if len(entity) > 1])\n",
    "\n",
    "    processed_docs.append(doc)\n",
    "docs = processed_docs\n",
    "del processed_docs"
   ]
  },
  {
   "cell_type": "code",
   "execution_count": 32,
   "metadata": {},
   "outputs": [],
   "source": [
    "# Add bigrams too\n",
    "from gensim.models.phrases import Phrases\n",
    "\n",
    "# Add bigrams to docs (only ones that appear 15 times or more).\n",
    "bigram = Phrases(docs, min_count=15)\n",
    "\n",
    "for idx in range(len(docs)):\n",
    "    for token in bigram[docs[idx]]:\n",
    "        if '_' in token:\n",
    "            # Token is a bigram, add to document.\n",
    "            docs[idx].append(token)"
   ]
  },
  {
   "cell_type": "code",
   "execution_count": 33,
   "metadata": {},
   "outputs": [
    {
     "name": "stdout",
     "output_type": "stream",
     "text": [
      "Number of unique tokens: 226\n",
      "Number of chunks: 330\n"
     ]
    }
   ],
   "source": [
    "# Create a dictionary representation of the documents, and filter out frequent and rare words.\n",
    "from gensim.corpora import Dictionary\n",
    "dictionary = Dictionary(docs)\n",
    "\n",
    "# Remove rare and common tokens.\n",
    "# Filter out words that occur too frequently or too rarely.\n",
    "max_freq = 0.5\n",
    "min_wordcount = 5\n",
    "dictionary.filter_extremes(no_below=min_wordcount, no_above=max_freq)\n",
    "\n",
    "# Bag-of-words representation of the documents.\n",
    "corpus = [dictionary.doc2bow(doc) for doc in docs]\n",
    "#MmCorpus.serialize(\"models/corpus.mm\", corpus)\n",
    "\n",
    "print('Number of unique tokens: %d' % len(dictionary))\n",
    "print('Number of chunks: %d' % len(corpus))"
   ]
  },
  {
   "cell_type": "code",
   "execution_count": 34,
   "metadata": {},
   "outputs": [],
   "source": [
    "# models\n",
    "from gensim.models import LdaMulticore\n",
    "params = {'passes': 10, 'random_state': seed}\n",
    "base_models = dict()\n",
    "model = LdaMulticore(corpus=corpus, num_topics=5, id2word=dictionary, workers=6,\n",
    "                passes=params['passes'], random_state=params['random_state'])"
   ]
  },
  {
   "cell_type": "code",
   "execution_count": 35,
   "metadata": {},
   "outputs": [
    {
     "data": {
      "text/plain": [
       "[(0,\n",
       "  '0.063*\"onze\" + 0.029*\"plaats\" + 0.027*\"eerste\" + 0.027*\"mensen\" + 0.025*\"partij\" + 0.023*\"mee\" + 0.022*\"tijd\" + 0.021*\"zetten\" + 0.020*\"onze_mensen\" + 0.016*\"mei\"'),\n",
       " (1,\n",
       "  '0.079*\"onze\" + 0.064*\"like\" + 0.059*\"bent\" + 0.051*\"like_bent\" + 0.032*\"land\" + 0.024*\"sociale\" + 0.021*\"zekerheid\" + 0.019*\"thuis\" + 0.018*\"échte\" + 0.018*\"asielcentrum\"'),\n",
       " (2,\n",
       "  '0.065*\"bent\" + 0.064*\"like\" + 0.062*\"like_bent\" + 0.049*\"immigratie\" + 0.040*\"stop\" + 0.036*\"massa\" + 0.035*\"terug\" + 0.033*\"tijd\" + 0.028*\"stop_massa\" + 0.028*\"leefbaar\"'),\n",
       " (3,\n",
       "  '0.058*\"onze\" + 0.034*\"bevolking\" + 0.033*\"mensen\" + 0.031*\"weg\" + 0.022*\"onze_mensen\" + 0.021*\"vlaanderen\" + 0.018*\"politieke\" + 0.017*\"straf\" + 0.017*\"beleid\" + 0.016*\"tijd\"'),\n",
       " (4,\n",
       "  '0.041*\"stop\" + 0.037*\"vlaams\" + 0.032*\"belang\" + 0.032*\"vlaams_belang\" + 0.030*\"wordt\" + 0.028*\"lez\" + 0.026*\"nieuwe\" + 0.023*\"onze\" + 0.022*\"open\" + 0.021*\"belastingen\"')]"
      ]
     },
     "execution_count": 35,
     "metadata": {},
     "output_type": "execute_result"
    }
   ],
   "source": [
    "model.show_topics(num_words=10)"
   ]
  },
  {
   "cell_type": "code",
   "execution_count": 36,
   "metadata": {},
   "outputs": [
    {
     "data": {
      "text/plain": [
       "[(0, 0.029171802),\n",
       " (1, 0.8831067),\n",
       " (2, 0.029888729),\n",
       " (3, 0.029218609),\n",
       " (4, 0.028614154)]"
      ]
     },
     "execution_count": 36,
     "metadata": {},
     "output_type": "execute_result"
    }
   ],
   "source": [
    "model.get_document_topics(corpus[0])"
   ]
  },
  {
   "cell_type": "code",
   "execution_count": 50,
   "metadata": {},
   "outputs": [
    {
     "data": {
      "text/plain": [
       "[('onze', 137),\n",
       " ('like', 96),\n",
       " ('bent', 94),\n",
       " ('like_bent', 86),\n",
       " ('stop', 73),\n",
       " ('immigratie', 51),\n",
       " ('tijd', 49),\n",
       " ('bevolking', 45),\n",
       " ('land', 40),\n",
       " ('jaar', 37),\n",
       " ('mensen', 37),\n",
       " ('terug', 35),\n",
       " ('échte', 32),\n",
       " ('massa', 30),\n",
       " ('wordt', 30),\n",
       " ('verandering', 29),\n",
       " ('onze_mensen', 28),\n",
       " ('vlaams', 27),\n",
       " ('échte_verandering', 26),\n",
       " ('partij', 25)]"
      ]
     },
     "execution_count": 50,
     "metadata": {},
     "output_type": "execute_result"
    }
   ],
   "source": [
    "# Find the 20 most popular word\n",
    "bow = sorted(dictionary.cfs.items(), key=lambda kv: kv[0])\n",
    "i = 0\n",
    "bow_new_index = []\n",
    "for x in bow:\n",
    "    bow_new_index.append((i, x[1]))\n",
    "    i +=1\n",
    "bow_new_index\n",
    "most_employed = sorted(bow_new_index, key=lambda kv: kv[1])[::-1][:20]\n",
    "list(map(lambda x: (dictionary.id2token[x[0]], x[1]) , most_employed))"
   ]
  },
  {
   "cell_type": "code",
   "execution_count": 62,
   "metadata": {},
   "outputs": [
    {
     "data": {
      "text/plain": [
       "<matplotlib.axes._subplots.AxesSubplot at 0x1a20823190>"
      ]
     },
     "execution_count": 62,
     "metadata": {},
     "output_type": "execute_result"
    },
    {
     "data": {
      "image/png": "[encoded data removed]",
      "text/plain": [
       "<Figure size 432x288 with 1 Axes>"
      ]
     },
     "metadata": {
      "needs_background": "light"
     },
     "output_type": "display_data"
    }
   ],
   "source": [
    "vb.set_index('date').resample('M', how='count').status.plot()"
   ]
  },
  {
   "cell_type": "code",
   "execution_count": 63,
   "metadata": {},
   "outputs": [
    {
     "data": {
      "text/html": [
       "<div>\n",
       "<style scoped>\n",
       "    .dataframe tbody tr th:only-of-type {\n",
       "        vertical-align: middle;\n",
       "    }\n",
       "\n",
       "    .dataframe tbody tr th {\n",
       "        vertical-align: top;\n",
       "    }\n",
       "\n",
       "    .dataframe thead th {\n",
       "        text-align: right;\n",
       "    }\n",
       "</style>\n",
       "<table border=\"1\" class=\"dataframe\">\n",
       "  <thead>\n",
       "    <tr style=\"text-align: right;\">\n",
       "      <th></th>\n",
       "      <th>date</th>\n",
       "      <th>status</th>\n",
       "      <th>text</th>\n",
       "      <th>photo</th>\n",
       "      <th>parti</th>\n",
       "    </tr>\n",
       "    <tr>\n",
       "      <th>id</th>\n",
       "      <th></th>\n",
       "      <th></th>\n",
       "      <th></th>\n",
       "      <th></th>\n",
       "      <th></th>\n",
       "    </tr>\n",
       "  </thead>\n",
       "  <tbody>\n",
       "    <tr>\n",
       "      <th>2456367091344308</th>\n",
       "      <td>2020-01-14</td>\n",
       "      <td>Actif</td>\n",
       "      <td>Tijd voor échte verandering. Ook in Geraardsbe...</td>\n",
       "      <td>https://scontent.fgva1-1.fna.fbcdn.net/v/t39.1...</td>\n",
       "      <td>Vlaams Belang</td>\n",
       "    </tr>\n",
       "    <tr>\n",
       "      <th>2521655651492982</th>\n",
       "      <td>2020-01-13</td>\n",
       "      <td>Inactive</td>\n",
       "      <td>Ondanks eerdere beloftes om niet te besparen, ...</td>\n",
       "      <td>https://scontent.fgva1-1.fna.fbcdn.net/v/t1.64...</td>\n",
       "      <td>Vlaams Belang</td>\n",
       "    </tr>\n",
       "    <tr>\n",
       "      <th>3173937022621410</th>\n",
       "      <td>2020-01-11</td>\n",
       "      <td>Actif</td>\n",
       "      <td>Terwijl poetshulpen staken voor 1% loonopslag ...</td>\n",
       "      <td>NaN</td>\n",
       "      <td>Vlaams Belang</td>\n",
       "    </tr>\n",
       "    <tr>\n",
       "      <th>503233856995441</th>\n",
       "      <td>2020-01-08</td>\n",
       "      <td>Actif</td>\n",
       "      <td>HALLUCINANT. Een gezin dat ILLEGAAL in het lan...</td>\n",
       "      <td>NaN</td>\n",
       "      <td>Vlaams Belang</td>\n",
       "    </tr>\n",
       "    <tr>\n",
       "      <th>510651559810052</th>\n",
       "      <td>2020-01-08</td>\n",
       "      <td>Inactive</td>\n",
       "      <td>Heeft iemand de Koksijdenaren gevraagd of ze e...</td>\n",
       "      <td>https://scontent.fgva1-1.fna.fbcdn.net/v/t39.1...</td>\n",
       "      <td>Vlaams Belang</td>\n",
       "    </tr>\n",
       "    <tr>\n",
       "      <th>...</th>\n",
       "      <td>...</td>\n",
       "      <td>...</td>\n",
       "      <td>...</td>\n",
       "      <td>...</td>\n",
       "      <td>...</td>\n",
       "    </tr>\n",
       "    <tr>\n",
       "      <th>301916850729576</th>\n",
       "      <td>2019-01-07</td>\n",
       "      <td>Inactive</td>\n",
       "      <td>Immigratie kost € 7,2 miljard/jaar, terwijl on...</td>\n",
       "      <td>https://scontent.fgva1-1.fna.fbcdn.net/v/t39.1...</td>\n",
       "      <td>Vlaams Belang</td>\n",
       "    </tr>\n",
       "    <tr>\n",
       "      <th>314573155875863</th>\n",
       "      <td>2019-01-06</td>\n",
       "      <td>Inactive</td>\n",
       "      <td>LIKE als je het eens bent!</td>\n",
       "      <td>https://scontent.fgva1-1.fna.fbcdn.net/v/t39.1...</td>\n",
       "      <td>Vlaams Belang</td>\n",
       "    </tr>\n",
       "    <tr>\n",
       "      <th>771284619895377</th>\n",
       "      <td>2019-01-04</td>\n",
       "      <td>Inactive</td>\n",
       "      <td>Stop met het importeren van armoede en bescher...</td>\n",
       "      <td>https://scontent.fgva1-1.fna.fbcdn.net/v/t39.1...</td>\n",
       "      <td>Vlaams Belang</td>\n",
       "    </tr>\n",
       "    <tr>\n",
       "      <th>336371940626016</th>\n",
       "      <td>2018-10-30</td>\n",
       "      <td>Inactive</td>\n",
       "      <td>IS-strijders horen NIET thuis in ons land. LIK...</td>\n",
       "      <td>https://scontent.fgva1-1.fna.fbcdn.net/v/t39.1...</td>\n",
       "      <td>Vlaams Belang</td>\n",
       "    </tr>\n",
       "    <tr>\n",
       "      <th>2029892163799883</th>\n",
       "      <td>2018-09-09</td>\n",
       "      <td>Inactive</td>\n",
       "      <td>Crimigranten buiten! LIKE als je het eens bent.</td>\n",
       "      <td>https://scontent.fgva1-1.fna.fbcdn.net/v/t39.1...</td>\n",
       "      <td>Vlaams Belang</td>\n",
       "    </tr>\n",
       "  </tbody>\n",
       "</table>\n",
       "<p>330 rows × 5 columns</p>\n",
       "</div>"
      ],
      "text/plain": [
       "                       date    status  \\\n",
       "id                                      \n",
       "2456367091344308 2020-01-14     Actif   \n",
       "2521655651492982 2020-01-13  Inactive   \n",
       "3173937022621410 2020-01-11     Actif   \n",
       "503233856995441  2020-01-08     Actif   \n",
       "510651559810052  2020-01-08  Inactive   \n",
       "...                     ...       ...   \n",
       "301916850729576  2019-01-07  Inactive   \n",
       "314573155875863  2019-01-06  Inactive   \n",
       "771284619895377  2019-01-04  Inactive   \n",
       "336371940626016  2018-10-30  Inactive   \n",
       "2029892163799883 2018-09-09  Inactive   \n",
       "\n",
       "                                                               text  \\\n",
       "id                                                                    \n",
       "2456367091344308  Tijd voor échte verandering. Ook in Geraardsbe...   \n",
       "2521655651492982  Ondanks eerdere beloftes om niet te besparen, ...   \n",
       "3173937022621410  Terwijl poetshulpen staken voor 1% loonopslag ...   \n",
       "503233856995441   HALLUCINANT. Een gezin dat ILLEGAAL in het lan...   \n",
       "510651559810052   Heeft iemand de Koksijdenaren gevraagd of ze e...   \n",
       "...                                                             ...   \n",
       "301916850729576   Immigratie kost € 7,2 miljard/jaar, terwijl on...   \n",
       "314573155875863                          LIKE als je het eens bent!   \n",
       "771284619895377   Stop met het importeren van armoede en bescher...   \n",
       "336371940626016   IS-strijders horen NIET thuis in ons land. LIK...   \n",
       "2029892163799883    Crimigranten buiten! LIKE als je het eens bent.   \n",
       "\n",
       "                                                              photo  \\\n",
       "id                                                                    \n",
       "2456367091344308  https://scontent.fgva1-1.fna.fbcdn.net/v/t39.1...   \n",
       "2521655651492982  https://scontent.fgva1-1.fna.fbcdn.net/v/t1.64...   \n",
       "3173937022621410                                                NaN   \n",
       "503233856995441                                                 NaN   \n",
       "510651559810052   https://scontent.fgva1-1.fna.fbcdn.net/v/t39.1...   \n",
       "...                                                             ...   \n",
       "301916850729576   https://scontent.fgva1-1.fna.fbcdn.net/v/t39.1...   \n",
       "314573155875863   https://scontent.fgva1-1.fna.fbcdn.net/v/t39.1...   \n",
       "771284619895377   https://scontent.fgva1-1.fna.fbcdn.net/v/t39.1...   \n",
       "336371940626016   https://scontent.fgva1-1.fna.fbcdn.net/v/t39.1...   \n",
       "2029892163799883  https://scontent.fgva1-1.fna.fbcdn.net/v/t39.1...   \n",
       "\n",
       "                          parti  \n",
       "id                               \n",
       "2456367091344308  Vlaams Belang  \n",
       "2521655651492982  Vlaams Belang  \n",
       "3173937022621410  Vlaams Belang  \n",
       "503233856995441   Vlaams Belang  \n",
       "510651559810052   Vlaams Belang  \n",
       "...                         ...  \n",
       "301916850729576   Vlaams Belang  \n",
       "314573155875863   Vlaams Belang  \n",
       "771284619895377   Vlaams Belang  \n",
       "336371940626016   Vlaams Belang  \n",
       "2029892163799883  Vlaams Belang  \n",
       "\n",
       "[330 rows x 5 columns]"
      ]
     },
     "execution_count": 63,
     "metadata": {},
     "output_type": "execute_result"
    }
   ],
   "source": [
    "vb"
   ]
  },
  {
   "cell_type": "code",
   "execution_count": null,
   "metadata": {},
   "outputs": [],
   "source": []
  }
 ],
 "metadata": {
  "kernelspec": {
   "display_name": "Python [conda env:ada] *",
   "language": "python",
   "name": "conda-env-ada-py"
  },
  "language_info": {
   "codemirror_mode": {
    "name": "ipython",
    "version": 3
   },
   "file_extension": ".py",
   "mimetype": "text/x-python",
   "name": "python",
   "nbconvert_exporter": "python",
   "pygments_lexer": "ipython3",
   "version": "3.7.6"
  }
 },
 "nbformat": 4,
 "nbformat_minor": 4
}
